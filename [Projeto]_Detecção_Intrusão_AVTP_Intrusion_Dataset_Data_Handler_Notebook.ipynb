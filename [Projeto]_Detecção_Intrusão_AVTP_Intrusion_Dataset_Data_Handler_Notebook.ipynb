{
  "nbformat": 4,
  "nbformat_minor": 0,
  "metadata": {
    "colab": {
      "provenance": [],
      "machine_shape": "hm"
    },
    "kernelspec": {
      "name": "python3",
      "display_name": "Python 3"
    },
    "language_info": {
      "name": "python"
    },
    "gpuClass": "standard"
  },
  "cells": [
    {
      "cell_type": "markdown",
      "source": [
        "# AVTP Intrusion Dataset Data Handler Notebook\n",
        "\n",
        "This notebook takes the raw input from AVTP Intrusion Dataset, aggregate and label it following the specified parameters"
      ],
      "metadata": {
        "id": "tMRuyorRotEG"
      }
    },
    {
      "cell_type": "markdown",
      "source": [
        "## Mount google drive"
      ],
      "metadata": {
        "id": "qtrj3IExo2zf"
      }
    },
    {
      "cell_type": "code",
      "source": [
        "# Mount google drive\n",
        "from google.colab import drive\n",
        "drive.mount('/content/drive')"
      ],
      "metadata": {
        "colab": {
          "base_uri": "https://localhost:8080/"
        },
        "id": "H1Mv3BI7o4kT",
        "outputId": "a3e8323e-4cb7-4d64-a9c7-b07616f50f80"
      },
      "execution_count": null,
      "outputs": [
        {
          "output_type": "stream",
          "name": "stdout",
          "text": [
            "Mounted at /content/drive\n"
          ]
        }
      ]
    },
    {
      "cell_type": "markdown",
      "source": [
        "## Dependencies"
      ],
      "metadata": {
        "id": "_Z11fDQio6ie"
      }
    },
    {
      "cell_type": "code",
      "execution_count": null,
      "metadata": {
        "colab": {
          "base_uri": "https://localhost:8080/"
        },
        "id": "xkFP4BWvopM0",
        "outputId": "c2f6eb0b-7d9a-403d-8ca1-caca64a7bfbb"
      },
      "outputs": [
        {
          "output_type": "stream",
          "name": "stdout",
          "text": [
            "Collecting scapy\n",
            "  Downloading scapy-2.5.0.tar.gz (1.3 MB)\n",
            "\u001b[2K     \u001b[90m━━━━━━━━━━━━━━━━━━━━━━━━━━━━━━━━━━━━━━━━\u001b[0m \u001b[32m1.3/1.3 MB\u001b[0m \u001b[31m6.1 MB/s\u001b[0m eta \u001b[36m0:00:00\u001b[0m\n",
            "\u001b[?25h  Preparing metadata (setup.py) ... \u001b[?25l\u001b[?25hdone\n",
            "Building wheels for collected packages: scapy\n",
            "  Building wheel for scapy (setup.py) ... \u001b[?25l\u001b[?25hdone\n",
            "  Created wheel for scapy: filename=scapy-2.5.0-py2.py3-none-any.whl size=1444328 sha256=93b3149f659a688a0baf2c65fb35b031da918ee0d69ed1d1ed4fc5bc16f33310\n",
            "  Stored in directory: /root/.cache/pip/wheels/82/b7/03/8344d8cf6695624746311bc0d389e9d05535ca83c35f90241d\n",
            "Successfully built scapy\n",
            "Installing collected packages: scapy\n",
            "Successfully installed scapy-2.5.0\n"
          ]
        }
      ],
      "source": [
        "# Install library\n",
        "!pip install scapy"
      ]
    },
    {
      "cell_type": "markdown",
      "source": [
        "### Libraries"
      ],
      "metadata": {
        "id": "_q8EP_7NosWw"
      }
    },
    {
      "cell_type": "code",
      "source": [
        "# Libraries\n",
        "\n",
        "import gc # garbage collector\n",
        "import pandas as pd\n",
        "import numpy as np\n",
        "from scapy.all import *"
      ],
      "metadata": {
        "id": "HsUGc5lbpgNC"
      },
      "execution_count": null,
      "outputs": []
    },
    {
      "cell_type": "markdown",
      "source": [
        "### Helper functions"
      ],
      "metadata": {
        "id": "AlcFZkxHraA4"
      }
    },
    {
      "cell_type": "code",
      "source": [
        "# Helper functions\n",
        "def __read_raw_packets(pcap_filepath):\n",
        "  raw_packets = rdpcap(pcap_filepath)\n",
        "\n",
        "  raw_packets_list = []\n",
        "\n",
        "  for packet in raw_packets:\n",
        "    if (len(packet) == 438): # The length of AVTP packets in 438 bytes\n",
        "      raw_packets_list.append(raw(packet))\n",
        "    if (len(packet) == 434): # The length of AVTP packets in 434 bytes (on second dataset)\n",
        "      raw_packets_list.append(raw(packet))\n",
        "\n",
        "  return raw_packets_list\n",
        "\n",
        "\n",
        "def __convert_raw_packets(raw_packets_list):\n",
        "  converted_packets_list = []\n",
        "\n",
        "  for raw_packet in raw_packets_list:\n",
        "    converted_packet = np.frombuffer(raw_packet, dtype='uint8')\n",
        "    if converted_packet.ndim == 1:\n",
        "        # o MPEG frame tem dimensões (36, 438), o pacote do segundo dataset tem a dimensão de (434,), é preciso adequar ao formato da imagem\n",
        "        desired_shape = (36, 438)\n",
        "        converted_packet = np.pad(converted_packet, (0, desired_shape[0] * desired_shape[1] - converted_packet.size), mode='constant')\n",
        "        converted_packet.reshape(desired_shape)\n",
        "    converted_packets_list.append(converted_packet)\n",
        "\n",
        "  return np.array(converted_packets_list, dtype='uint8')\n",
        "\n",
        "\n",
        "def __is_array_in_list_of_arrays(array_to_check, list_np_arrays):\n",
        "  # Reference:\n",
        "  # https://stackoverflow.com/questions/23979146/check-if-numpy-array-is-in-list-of-numpy-arrays\n",
        "  is_in_list = np.any(np.all(array_to_check == list_np_arrays, axis=1))\n",
        "\n",
        "  return is_in_list\n",
        "\n",
        "\n",
        "def __generate_labels(packets_list, injected_packets):\n",
        "  labels_list = []\n",
        "\n",
        "  for packet in packets_list:\n",
        "    current_label = 0\n",
        "\n",
        "    if __is_array_in_list_of_arrays(packet, injected_packets):\n",
        "      current_label = 1\n",
        "\n",
        "    labels_list.append(current_label)\n",
        "\n",
        "  return labels_list\n",
        "\n",
        "\n",
        "def __select_packets_bytes(packets_list, first_byte=0, last_byte=58):\n",
        "    selected_packets = packets_list[:, first_byte:last_byte]\n",
        "    return np.array(selected_packets, dtype='uint8')\n",
        "\n",
        "\n",
        "def __calculate_difference_module(selected_packets):\n",
        "  difference_array = np.diff(selected_packets, axis=0)\n",
        "  difference_module = np.mod(difference_array, 256)\n",
        "\n",
        "  return difference_module\n",
        "\n",
        "\n",
        "def __split_byte_into_nibbles(byte):\n",
        "  high_nibble = (byte >> 4) & 0xf\n",
        "  low_nibble = (byte) & 0xf\n",
        "\n",
        "  return high_nibble, low_nibble\n",
        "\n",
        "\n",
        "def __create_nibbles_matrix(difference_module):\n",
        "  nibbles_matrix = []\n",
        "\n",
        "  # difference matrix é uma matriz com n linhas e p colunas\n",
        "  for row_index in range(len(difference_module)):\n",
        "    nibbles_row = []\n",
        "    for column_index in range(len(difference_module[row_index])):\n",
        "      hi_ni, low_ni = __split_byte_into_nibbles(difference_module[row_index, column_index])\n",
        "\n",
        "      nibbles_row.append(hi_ni)\n",
        "      nibbles_row.append(low_ni)\n",
        "\n",
        "    nibbles_matrix.append(np.array(nibbles_row, dtype='uint8'))\n",
        "\n",
        "  return np.array(nibbles_matrix, dtype='uint8')\n",
        "\n",
        "def preprocess_raw_packets(converted_packets, split_into_nibbles=True):\n",
        "  # select first 58 bytes\n",
        "  selected_packets = __select_packets_bytes(converted_packets)\n",
        "\n",
        "  # calculate difference and module between rows\n",
        "  diff_module_packets = __calculate_difference_module(selected_packets)\n",
        "\n",
        "  # split difference into two nibbles\n",
        "  if split_into_nibbles:\n",
        "    diff_module_packets = __create_nibbles_matrix(diff_module_packets)\n",
        "\n",
        "  return diff_module_packets\n",
        "\n",
        "def aggregate_based_on_window_size(x_data, y_data, window_size=44, window_slide=44):\n",
        "    # Prepare the list for the transformed data\n",
        "    X, y = list(), list()\n",
        "\n",
        "    # Loop of the entire data set\n",
        "    for i in range(x_data.shape[0]):\n",
        "        # compute a new (sliding window) index\n",
        "        start_ix = i*(window_slide)\n",
        "        end_ix = start_ix + window_size - 1 + 1\n",
        "\n",
        "        # if index is larger than the size of the dataset, we stop\n",
        "        if end_ix >= x_data.shape[0]:\n",
        "            break\n",
        "\n",
        "        # Get a sequence of data for x\n",
        "        seq_X = x_data[start_ix:end_ix]\n",
        "        if (window_slide == 1):\n",
        "          # Get only the last element of the sequence for y\n",
        "          seq_y = y_data[end_ix]\n",
        "        else:\n",
        "          # If the sequence contains an attack, the label is considered as attack\n",
        "          tmp_seq_y = y_data[start_ix:end_ix]\n",
        "          if 1 in tmp_seq_y:\n",
        "            seq_y = 1\n",
        "          else:\n",
        "            seq_y = 0\n",
        "        # Append the list with sequencies\n",
        "        X.append(seq_X)\n",
        "        y.append(seq_y)\n",
        "    # Make final arrays\n",
        "    x_array = np.array(X, dtype='uint8')\n",
        "    y_array = np.array(y, dtype='uint8')\n",
        "\n",
        "    return x_array, y_array"
      ],
      "metadata": {
        "id": "7-0q0m2Kp-MC"
      },
      "execution_count": null,
      "outputs": []
    },
    {
      "cell_type": "markdown",
      "source": [
        "## Main code"
      ],
      "metadata": {
        "id": "hYmayv_UsfIb"
      }
    },
    {
      "cell_type": "code",
      "source": [
        "# filepaths\n",
        "drive_root_path = \"/content/drive/MyDrive/AVTPDataset\"\n",
        "\n",
        "# indoors injected files\n",
        "injected_raw_packets_filepaths = [\"Automotive_Ethernet_with_Attack_original_10_17_19_50_training.pcap\"]\n",
        "\n",
        "## injected only\n",
        "single_MPEG_frame_fp = f\"{drive_root_path}/single-MPEG-frame.pcap\"\n",
        "\n",
        "WINDOW_SIZE = 44\n",
        "NUMBER_OF_BYTES = 58\n",
        "NUMBER_OF_COLUMNS = NUMBER_OF_BYTES * 2\n",
        "\n",
        "# treatment for injected packets\n",
        "raw_injected_packet = __read_raw_packets(single_MPEG_frame_fp)\n",
        "injected_packet_array = __convert_raw_packets(raw_injected_packet)\n",
        "\n",
        "X = np.empty(shape=(0, WINDOW_SIZE, NUMBER_OF_COLUMNS), dtype='uint8')\n",
        "y = np.array([], dtype='uint8')\n",
        "\n",
        "for injected_paw_packets_fp in injected_raw_packets_filepaths:\n",
        "  # load raw packets\n",
        "  raw_packets = __read_raw_packets(f\"{drive_root_path}/{injected_paw_packets_fp}\")\n",
        "  # convert loaded packets to np array with uint8_t size\n",
        "  packets_array = __convert_raw_packets(raw_packets)\n",
        "  # preprocess packets\n",
        "  preprocessed_packets = preprocess_raw_packets(packets_array, split_into_nibbles=True)\n",
        "  # generate labels\n",
        "  labels = __generate_labels(packets_array, injected_packet_array)\n",
        "  # aggregate features and labels\n",
        "  aggregated_X, aggregated_y = aggregate_based_on_window_size(preprocessed_packets, labels, window_size=WINDOW_SIZE, window_slide=1)\n",
        "\n",
        "  # concatenate both indoors injected packets\n",
        "  X = np.concatenate((X, aggregated_X), axis=0, dtype='uint8')\n",
        "  y = np.concatenate((y, aggregated_y), axis=0, dtype='uint8')"
      ],
      "metadata": {
        "id": "UJxeqcsEsp2h"
      },
      "execution_count": null,
      "outputs": []
    },
    {
      "cell_type": "code",
      "source": [
        "single_MPEG_frame_fp = f\"{drive_root_path}/single-MPEG-frame.pcap\"\n",
        "# treatment for injected packets\n",
        "raw_injected_packet = __read_raw_packets(single_MPEG_frame_fp)\n",
        "injected_packet_array = __convert_raw_packets(raw_injected_packet)"
      ],
      "metadata": {
        "id": "C6qwOZ_uXj_3"
      },
      "execution_count": null,
      "outputs": []
    },
    {
      "cell_type": "code",
      "source": [
        "injected_packet_array"
      ],
      "metadata": {
        "colab": {
          "base_uri": "https://localhost:8080/"
        },
        "id": "zAjKDTsAXsfR",
        "outputId": "09b3d508-e8c0-47d1-99f9-4a64abde2762"
      },
      "execution_count": null,
      "outputs": [
        {
          "output_type": "execute_result",
          "data": {
            "text/plain": [
              "array([[145, 224, 240, ...,   0,   0,   0],\n",
              "       [145, 224, 240, ...,   0,   0,   0],\n",
              "       [145, 224, 240, ...,   0,   0,   0],\n",
              "       ...,\n",
              "       [145, 224, 240, ...,   0,   0,   0],\n",
              "       [145, 224, 240, ...,   0,   0,   0],\n",
              "       [145, 224, 240, ...,   0,   0,   0]], dtype=uint8)"
            ]
          },
          "metadata": {},
          "execution_count": 7
        }
      ]
    },
    {
      "cell_type": "markdown",
      "source": [
        "## Check dataset samples and distribution"
      ],
      "metadata": {
        "id": "Z4NGMP-bryjI"
      }
    },
    {
      "cell_type": "code",
      "source": [
        "# Checking if dataset was properly labeled\n",
        "\n",
        "indoors_unique, indoors_counts = np.unique(np.array(y), return_counts=True)\n",
        "\n",
        "# Dindoors has 446,372 bening Xis and 196,894 injected Xis [Paper information]\n",
        "print(f\"Dindoors has {indoors_counts[0]} bening Xis and {indoors_counts[1]} injected Xis\")"
      ],
      "metadata": {
        "colab": {
          "base_uri": "https://localhost:8080/",
          "height": 176
        },
        "id": "w5dOywwbr0Bs",
        "outputId": "81267021-712f-40c6-9b1c-c9deeb6a8eda"
      },
      "execution_count": null,
      "outputs": [
        {
          "output_type": "error",
          "ename": "IndexError",
          "evalue": "index 1 is out of bounds for axis 0 with size 1",
          "traceback": [
            "\u001b[0;31m---------------------------------------------------------------------------\u001b[0m",
            "\u001b[0;31mIndexError\u001b[0m                                Traceback (most recent call last)",
            "\u001b[0;32m<ipython-input-8-b0481069fccd>\u001b[0m in \u001b[0;36m<cell line: 6>\u001b[0;34m()\u001b[0m\n\u001b[1;32m      4\u001b[0m \u001b[0;34m\u001b[0m\u001b[0m\n\u001b[1;32m      5\u001b[0m \u001b[0;31m# Dindoors has 446,372 bening Xis and 196,894 injected Xis [Paper information]\u001b[0m\u001b[0;34m\u001b[0m\u001b[0;34m\u001b[0m\u001b[0m\n\u001b[0;32m----> 6\u001b[0;31m \u001b[0mprint\u001b[0m\u001b[0;34m(\u001b[0m\u001b[0;34mf\"Dindoors has {indoors_counts[0]} bening Xis and {indoors_counts[1]} injected Xis\"\u001b[0m\u001b[0;34m)\u001b[0m\u001b[0;34m\u001b[0m\u001b[0;34m\u001b[0m\u001b[0m\n\u001b[0m",
            "\u001b[0;31mIndexError\u001b[0m: index 1 is out of bounds for axis 0 with size 1"
          ]
        }
      ]
    },
    {
      "cell_type": "markdown",
      "source": [
        "## Export data as npz files"
      ],
      "metadata": {
        "id": "PBK_I8LSr0f-"
      }
    },
    {
      "cell_type": "code",
      "source": [
        "drive_root_path = \"/content/drive/MyDrive/AVTPDataset\"\n",
        "\n",
        "np.savez(f\"{drive_root_path}/x_automotive_ethernet_agg_wsize_{WINDOW_SIZE}_cols_{NUMBER_OF_COLUMNS}\", X)\n",
        "np.savez(f\"{drive_root_path}/y_automotive_ethernet_agg_wsize_{WINDOW_SIZE}_cols_{NUMBER_OF_COLUMNS}\", y)"
      ],
      "metadata": {
        "id": "VgqoPIbQr1s4"
      },
      "execution_count": null,
      "outputs": []
    },
    {
      "cell_type": "code",
      "source": [],
      "metadata": {
        "id": "MXOWT6WQwLxl"
      },
      "execution_count": null,
      "outputs": []
    },
    {
      "cell_type": "markdown",
      "source": [
        "## Exploratory analysis"
      ],
      "metadata": {
        "id": "oDW9rMrC6n96"
      }
    },
    {
      "cell_type": "code",
      "source": [
        "import numpy as np\n",
        "import pandas as pd\n",
        "\n",
        "from sklearn.model_selection import StratifiedKFold\n",
        "\n",
        "def load_train_validation_data(drive_root_path: str = \"/content/drive/MyDrive/AVTPDataset\", window_size=40, n_cols=58):\n",
        "  X_path = f'{drive_root_path}/x_automotive_ethernet_agg_wsize_{window_size}_cols_{n_cols}.npz'\n",
        "  y_path = f'{drive_root_path}/y_automotive_ethernet_agg_wsize_{window_size}_cols_{n_cols}.npz'\n",
        "\n",
        "  X_indoors = np.load(X_path)\n",
        "  X_indoors = np.array(X_indoors.f.arr_0, dtype='uint8')\n",
        "  X_indoors = X_indoors.reshape((X_indoors.shape[0], -1, window_size, n_cols))\n",
        "\n",
        "\n",
        "  y_indoors = np.load(y_path)\n",
        "  y_indoors = np.array(y_indoors.f.arr_0, dtype='uint8')\n",
        "\n",
        "  return X_indoors, y_indoors\n",
        "\n",
        "def merge_train_data(X_indoors, y_indoors):\n",
        "  # Combine features and labels\n",
        "  # Only necessary for pytorch dataloader\n",
        "  train_data = [[X_indoors[i], y_indoors[i]] for i in range(X_indoors.shape[0])]\n",
        "\n",
        "  return train_data\n",
        "\n",
        "\n",
        "def get_skf_dictionary(X_indoors, y_indoors):\n",
        "  splitter_dict = {\"0\":\n",
        "                  {\n",
        "                      \"train_idx\": [],\n",
        "                      \"train_idx_normal\": [],\n",
        "                      \"test_idx\": [],\n",
        "                   },\n",
        "                 \"1\":\n",
        "                  {\n",
        "                      \"train_idx\": [],\n",
        "                      \"train_idx_normal\": [],\n",
        "                      \"test_idx\": []\n",
        "                   },\n",
        "                 \"2\":\n",
        "                  {\n",
        "                      \"train_idx\": [],\n",
        "                      \"train_idx_normal\": [],\n",
        "                      \"test_idx\": []\n",
        "                   },\n",
        "                 \"3\":\n",
        "                  {\n",
        "                      \"train_idx\": [],\n",
        "                      \"train_idx_normal\": [],\n",
        "                      \"test_idx\": []\n",
        "                   },\n",
        "                 \"4\":\n",
        "                  {\n",
        "                      \"train_idx\": [],\n",
        "                      \"train_idx_normal\": [],\n",
        "                      \"test_idx\": []\n",
        "                   }\n",
        "                 }\n",
        "  skf = StratifiedKFold(n_splits=5, random_state=1, shuffle=True)\n",
        "  skf.split(X_indoors, y_indoors)\n",
        "\n",
        "  for fold,(train_idx,test_idx) in enumerate(skf.split(X_indoors, y_indoors)):\n",
        "    print('------------fold no---------{}----------------------'.format(fold))\n",
        "\n",
        "    train_y = y_indoors[train_idx]\n",
        "    unique_train_y, count_train_y = np.unique(train_y, return_counts=True)\n",
        "    print(f\"unique_train_y = {unique_train_y}, count_train_y = {count_train_y}\")\n",
        "    train_y_normal = train_y == 0\n",
        "\n",
        "    train_normal_idx = train_idx[train_y_normal]\n",
        "    y_normal = y_indoors[train_normal_idx]\n",
        "    unique, count = np.unique(y_normal, return_counts=True)\n",
        "    print(f\"unique = {unique}, count = {count}\")\n",
        "\n",
        "    print(f\"train_idx = {train_idx}, train_idx_normal = {train_normal_idx}, test_idx = {test_idx}\")\n",
        "    splitter_dict[str(fold)][\"train_idx\"].extend(train_idx)\n",
        "    splitter_dict[str(fold)][\"train_idx_normal\"].extend(train_normal_idx)\n",
        "    splitter_dict[str(fold)][\"test_idx\"].extend(test_idx)\n",
        "\n",
        "  return splitter_dict"
      ],
      "metadata": {
        "id": "a7dSw4Q461mL"
      },
      "execution_count": null,
      "outputs": []
    },
    {
      "cell_type": "code",
      "source": [
        "drive_root_path = \"/content/drive/MyDrive/AVTPDataset\"\n",
        "WINDOW_SIZE=44\n",
        "N_COLS=116\n",
        "# WINDOW_SIZE=44\n",
        "# N_COLS=116\n",
        "\n",
        "X, y = load_train_validation_data(window_size=WINDOW_SIZE, n_cols=N_COLS)\n",
        "train_data = merge_train_data(X, y)\n",
        "splitter_dict = get_skf_dictionary(X, y)"
      ],
      "metadata": {
        "id": "afI2troL6nmp",
        "colab": {
          "base_uri": "https://localhost:8080/"
        },
        "outputId": "0c20a99a-2e0c-43c4-d572-f385be998e5f"
      },
      "execution_count": null,
      "outputs": [
        {
          "output_type": "stream",
          "name": "stdout",
          "text": [
            "------------fold no---------0----------------------\n",
            "unique_train_y = [0], count_train_y = [229573]\n",
            "unique = [0], count = [229573]\n",
            "train_idx = [     0      1      4 ... 286964 286965 286966], train_idx_normal = [     0      1      4 ... 286964 286965 286966], test_idx = [     2      3      6 ... 286956 286959 286962]\n",
            "------------fold no---------1----------------------\n",
            "unique_train_y = [0], count_train_y = [229573]\n",
            "unique = [0], count = [229573]\n",
            "train_idx = [     1      2      3 ... 286963 286965 286966], train_idx_normal = [     1      2      3 ... 286963 286965 286966], test_idx = [     0      7     21 ... 286946 286952 286964]\n",
            "------------fold no---------2----------------------\n",
            "unique_train_y = [0], count_train_y = [229574]\n",
            "unique = [0], count = [229574]\n",
            "train_idx = [     0      1      2 ... 286962 286964 286965], train_idx_normal = [     0      1      2 ... 286962 286964 286965], test_idx = [    11     12     15 ... 286960 286963 286966]\n",
            "------------fold no---------3----------------------\n",
            "unique_train_y = [0], count_train_y = [229574]\n",
            "unique = [0], count = [229574]\n",
            "train_idx = [     0      2      3 ... 286964 286965 286966], train_idx_normal = [     0      2      3 ... 286964 286965 286966], test_idx = [     1      4      5 ... 286954 286958 286961]\n",
            "------------fold no---------4----------------------\n",
            "unique_train_y = [0], count_train_y = [229574]\n",
            "unique = [0], count = [229574]\n",
            "train_idx = [     0      1      2 ... 286963 286964 286966], train_idx_normal = [     0      1      2 ... 286963 286964 286966], test_idx = [     9     10     14 ... 286953 286955 286965]\n"
          ]
        }
      ]
    },
    {
      "cell_type": "code",
      "source": [
        "fold_0_X_normal_train = X[splitter_dict[\"0\"][\"train_idx_normal\"]]\n",
        "fold_0_y_normal_train = y[splitter_dict[\"0\"][\"train_idx_normal\"]]\n",
        "fold_0_y_test = y[splitter_dict[\"0\"][\"test_idx\"]]\n",
        "fold_0_y_test_anomalies = fold_0_y_test == 1\n",
        "fold_0_X_test_anomalies = X[splitter_dict[\"0\"][\"test_idx\"]][fold_0_y_test_anomalies]"
      ],
      "metadata": {
        "id": "ZS5ptc9V69qh"
      },
      "execution_count": null,
      "outputs": []
    },
    {
      "cell_type": "code",
      "source": [
        "import matplotlib.pyplot as plt\n",
        "\n",
        "def plot_images(samples, n_rows=4, n_cols=4, shape=(40, 58)):\n",
        "  fig, ax = plt.subplots(nrows=n_rows, ncols=n_cols, figsize=(15, 15))\n",
        "\n",
        "  selected_X = samples[0:n_rows*n_cols]\n",
        "  X_index = 0\n",
        "\n",
        "  for row in ax:\n",
        "      for col in row:\n",
        "          col.imshow(selected_X[X_index].reshape(shape[0], shape[1]))\n",
        "          X_index = X_index + 1\n",
        "\n",
        "  plt.show()"
      ],
      "metadata": {
        "id": "3dRyU79oYxeO"
      },
      "execution_count": null,
      "outputs": []
    },
    {
      "cell_type": "markdown",
      "source": [
        "## Window_size = 40, N_cols=58"
      ],
      "metadata": {
        "id": "YaliHLUvbStN"
      }
    },
    {
      "cell_type": "code",
      "source": [
        "plot_images(fold_0_X_test_anomalies)"
      ],
      "metadata": {
        "colab": {
          "base_uri": "https://localhost:8080/",
          "height": 1000
        },
        "id": "_oFPZrno7w6g",
        "outputId": "1ff1c2f6-7e81-4849-cd25-a00d245cec8a"
      },
      "execution_count": null,
      "outputs": [
        {
          "output_type": "error",
          "ename": "IndexError",
          "evalue": "index 0 is out of bounds for axis 0 with size 0",
          "traceback": [
            "\u001b[0;31m---------------------------------------------------------------------------\u001b[0m",
            "\u001b[0;31mIndexError\u001b[0m                                Traceback (most recent call last)",
            "\u001b[0;32m<ipython-input-15-ca6ee903246c>\u001b[0m in \u001b[0;36m<cell line: 1>\u001b[0;34m()\u001b[0m\n\u001b[0;32m----> 1\u001b[0;31m \u001b[0mplot_images\u001b[0m\u001b[0;34m(\u001b[0m\u001b[0mfold_0_X_test_anomalies\u001b[0m\u001b[0;34m)\u001b[0m\u001b[0;34m\u001b[0m\u001b[0;34m\u001b[0m\u001b[0m\n\u001b[0m",
            "\u001b[0;32m<ipython-input-14-0a64f3f464e6>\u001b[0m in \u001b[0;36mplot_images\u001b[0;34m(samples, n_rows, n_cols, shape)\u001b[0m\n\u001b[1;32m      9\u001b[0m   \u001b[0;32mfor\u001b[0m \u001b[0mrow\u001b[0m \u001b[0;32min\u001b[0m \u001b[0max\u001b[0m\u001b[0;34m:\u001b[0m\u001b[0;34m\u001b[0m\u001b[0;34m\u001b[0m\u001b[0m\n\u001b[1;32m     10\u001b[0m       \u001b[0;32mfor\u001b[0m \u001b[0mcol\u001b[0m \u001b[0;32min\u001b[0m \u001b[0mrow\u001b[0m\u001b[0;34m:\u001b[0m\u001b[0;34m\u001b[0m\u001b[0;34m\u001b[0m\u001b[0m\n\u001b[0;32m---> 11\u001b[0;31m           \u001b[0mcol\u001b[0m\u001b[0;34m.\u001b[0m\u001b[0mimshow\u001b[0m\u001b[0;34m(\u001b[0m\u001b[0mselected_X\u001b[0m\u001b[0;34m[\u001b[0m\u001b[0mX_index\u001b[0m\u001b[0;34m]\u001b[0m\u001b[0;34m.\u001b[0m\u001b[0mreshape\u001b[0m\u001b[0;34m(\u001b[0m\u001b[0mshape\u001b[0m\u001b[0;34m[\u001b[0m\u001b[0;36m0\u001b[0m\u001b[0;34m]\u001b[0m\u001b[0;34m,\u001b[0m \u001b[0mshape\u001b[0m\u001b[0;34m[\u001b[0m\u001b[0;36m1\u001b[0m\u001b[0;34m]\u001b[0m\u001b[0;34m)\u001b[0m\u001b[0;34m)\u001b[0m\u001b[0;34m\u001b[0m\u001b[0;34m\u001b[0m\u001b[0m\n\u001b[0m\u001b[1;32m     12\u001b[0m           \u001b[0mX_index\u001b[0m \u001b[0;34m=\u001b[0m \u001b[0mX_index\u001b[0m \u001b[0;34m+\u001b[0m \u001b[0;36m1\u001b[0m\u001b[0;34m\u001b[0m\u001b[0;34m\u001b[0m\u001b[0m\n\u001b[1;32m     13\u001b[0m \u001b[0;34m\u001b[0m\u001b[0m\n",
            "\u001b[0;31mIndexError\u001b[0m: index 0 is out of bounds for axis 0 with size 0"
          ]
        },
        {
          "output_type": "display_data",
          "data": {
            "text/plain": [
              "<Figure size 1500x1500 with 16 Axes>"
            ],
            "image/png": "[encoded data removed]"
          },
          "metadata": {}
        }
      ]
    },
    {
      "cell_type": "code",
      "source": [
        "plot_images(fold_0_X_normal_train)"
      ],
      "metadata": {
        "colab": {
          "base_uri": "https://localhost:8080/",
          "height": 1000
        },
        "id": "Jux1U82c9aX7",
        "outputId": "9224165d-3423-4aa1-e914-9b071fce2c07"
      },
      "execution_count": null,
      "outputs": [
        {
          "output_type": "error",
          "ename": "ValueError",
          "evalue": "cannot reshape array of size 5104 into shape (40,58)",
          "traceback": [
            "\u001b[0;31m---------------------------------------------------------------------------\u001b[0m",
            "\u001b[0;31mValueError\u001b[0m                                Traceback (most recent call last)",
            "\u001b[0;32m<ipython-input-20-9dbe9bd4e49e>\u001b[0m in \u001b[0;36m<cell line: 1>\u001b[0;34m()\u001b[0m\n\u001b[0;32m----> 1\u001b[0;31m \u001b[0mplot_images\u001b[0m\u001b[0;34m(\u001b[0m\u001b[0mfold_0_X_normal_train\u001b[0m\u001b[0;34m)\u001b[0m\u001b[0;34m\u001b[0m\u001b[0;34m\u001b[0m\u001b[0m\n\u001b[0m",
            "\u001b[0;32m<ipython-input-18-0a64f3f464e6>\u001b[0m in \u001b[0;36mplot_images\u001b[0;34m(samples, n_rows, n_cols, shape)\u001b[0m\n\u001b[1;32m      9\u001b[0m   \u001b[0;32mfor\u001b[0m \u001b[0mrow\u001b[0m \u001b[0;32min\u001b[0m \u001b[0max\u001b[0m\u001b[0;34m:\u001b[0m\u001b[0;34m\u001b[0m\u001b[0;34m\u001b[0m\u001b[0m\n\u001b[1;32m     10\u001b[0m       \u001b[0;32mfor\u001b[0m \u001b[0mcol\u001b[0m \u001b[0;32min\u001b[0m \u001b[0mrow\u001b[0m\u001b[0;34m:\u001b[0m\u001b[0;34m\u001b[0m\u001b[0;34m\u001b[0m\u001b[0m\n\u001b[0;32m---> 11\u001b[0;31m           \u001b[0mcol\u001b[0m\u001b[0;34m.\u001b[0m\u001b[0mimshow\u001b[0m\u001b[0;34m(\u001b[0m\u001b[0mselected_X\u001b[0m\u001b[0;34m[\u001b[0m\u001b[0mX_index\u001b[0m\u001b[0;34m]\u001b[0m\u001b[0;34m.\u001b[0m\u001b[0mreshape\u001b[0m\u001b[0;34m(\u001b[0m\u001b[0mshape\u001b[0m\u001b[0;34m[\u001b[0m\u001b[0;36m0\u001b[0m\u001b[0;34m]\u001b[0m\u001b[0;34m,\u001b[0m \u001b[0mshape\u001b[0m\u001b[0;34m[\u001b[0m\u001b[0;36m1\u001b[0m\u001b[0;34m]\u001b[0m\u001b[0;34m)\u001b[0m\u001b[0;34m)\u001b[0m\u001b[0;34m\u001b[0m\u001b[0;34m\u001b[0m\u001b[0m\n\u001b[0m\u001b[1;32m     12\u001b[0m           \u001b[0mX_index\u001b[0m \u001b[0;34m=\u001b[0m \u001b[0mX_index\u001b[0m \u001b[0;34m+\u001b[0m \u001b[0;36m1\u001b[0m\u001b[0;34m\u001b[0m\u001b[0;34m\u001b[0m\u001b[0m\n\u001b[1;32m     13\u001b[0m \u001b[0;34m\u001b[0m\u001b[0m\n",
            "\u001b[0;31mValueError\u001b[0m: cannot reshape array of size 5104 into shape (40,58)"
          ]
        },
        {
          "output_type": "display_data",
          "data": {
            "text/plain": [
              "<Figure size 1500x1500 with 16 Axes>"
            ],
            "image/png": "[encoded data removed]"
          },
          "metadata": {}
        }
      ]
    },
    {
      "cell_type": "code",
      "source": [],
      "metadata": {
        "id": "DaX_lZsOa3F2"
      },
      "execution_count": null,
      "outputs": []
    },
    {
      "cell_type": "markdown",
      "source": [
        "## Window size = 44, N_cols=116"
      ],
      "metadata": {
        "id": "5CP-WA8_bWB5"
      }
    },
    {
      "cell_type": "code",
      "source": [
        "plot_images(fold_0_X_normal_train, shape=(44, 116))"
      ],
      "metadata": {
        "id": "876JhdzibX3_"
      },
      "execution_count": null,
      "outputs": []
    },
    {
      "cell_type": "code",
      "source": [
        "plot_images(fold_0_X_test_anomalies, shape=(44, 116))"
      ],
      "metadata": {
        "id": "ztdXsRWlbgBX"
      },
      "execution_count": null,
      "outputs": []
    },
    {
      "cell_type": "code",
      "source": [],
      "metadata": {
        "id": "d2kfXeZEbmLw"
      },
      "execution_count": null,
      "outputs": []
    }
  ]
}